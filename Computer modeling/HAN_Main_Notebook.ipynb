{
 "cells": [
  {
   "cell_type": "code",
   "execution_count": 1,
   "metadata": {},
   "outputs": [],
   "source": [
    "import numpy as np"
   ]
  },
  {
   "cell_type": "code",
   "execution_count": 2,
   "metadata": {},
   "outputs": [],
   "source": [
    "# Define Constants. Work in SI units only to avoid excessive consersion.\n",
    "rxtr_diameter = 0.1 # fixed bed diameter of 10 cm\n",
    "rxtr_cross_section_area = np.pi*rxtr_diameter**2/4\n",
    "volume_void_fraction = 0.4 # assume packing efficiency is 0.6 for most packed beds\n",
    "area_void_fraction = 0.3 # derived from the volume void fraction\n",
    "effective_area = rxtr_cross_section_area*area_void_fraction\n",
    "R = 8.314e-5 # gas constant in m^3-bar/K-mol\n",
    "R_2 = 8.314 # gas constant in J/mol-K or m^3-Pa/K-mol or kg-m^2/(K-mol-s^2)\n",
    "g = 9.81 # gravitational acceleration in m/s^2\n",
    "\n",
    "\"\"\"\n",
    "Assume 4 HAN -> 3 N2O + 2 HNO3 +7H2O\n",
    "species 0, 1, 2, 3 = HAN, N2O, HNO3, H2O\n",
    "\"\"\"\n",
    "MW = np.array([96, 44, 63, 18])\n",
    "Shomate = ((74.826, 0, 0, 0, 0),\n",
    "           (27.680, 51.145, -30.645, 6.8479, -0.15791), \n",
    "           (19.632, 153.96, -115.84, 32.880, -0.24911), \n",
    "           (30.092, 6.8325, 6.7934, -2.5345, 0.082139)) # HAN, N2O, HNO3, H2O"
   ]
  },
  {
   "cell_type": "code",
   "execution_count": 3,
   "metadata": {},
   "outputs": [],
   "source": [
    "def f_Cp(i, T):\n",
    "    # returns Cp in J/mol-K, i is the species\n",
    "    A, B, C, D, E = Shomate[i]\n",
    "    t = T/1000\n",
    "    return A+B*t+C*t*t+D*t*t*t+E/t/t"
   ]
  },
  {
   "cell_type": "code",
   "execution_count": 4,
   "metadata": {},
   "outputs": [],
   "source": [
    "def f_Gamma(i, T):\n",
    "    # returns specific heat ratio, i is the species\n",
    "    Cp = f_Cp(i, T)\n",
    "    return Cp/(Cp-R_2)"
   ]
  },
  {
   "cell_type": "code",
   "execution_count": 5,
   "metadata": {},
   "outputs": [],
   "source": [
    "def f_concentration(pressure, temperature):\n",
    "    \"\"\"\n",
    "    returns concentration in mol/m^3, assuming ideal gas\n",
    "    pressure in bar\n",
    "    temperature in K\n",
    "    \"\"\"\n",
    "    return pressure/(R*temperature)"
   ]
  },
  {
   "cell_type": "code",
   "execution_count": 6,
   "metadata": {},
   "outputs": [],
   "source": [
    "def f_density(molecular_weight, concentration):\n",
    "    \"\"\"\n",
    "    returns density in kg/m^3, assuming ideal gas\n",
    "    molecular_weight in g/mol\n",
    "    \"\"\"\n",
    "    return molecular_weight*concentration/1000"
   ]
  },
  {
   "cell_type": "code",
   "execution_count": 7,
   "metadata": {},
   "outputs": [],
   "source": [
    "def f_effective_velocity(flow_rate, density):\n",
    "    \"\"\"\n",
    "    returns effective velocity in m/s\n",
    "    flow_rate in kg/s\n",
    "    density in kg/m^3\n",
    "    effective_area in m^2\n",
    "    \"\"\"\n",
    "    return flow_rate/(density*effective_area)"
   ]
  },
  {
   "cell_type": "code",
   "execution_count": 8,
   "metadata": {},
   "outputs": [],
   "source": [
    "def f_reynolds(density, effective_velocity, particle_diameter, dynamic_viscosity):\n",
    "    \"\"\"\n",
    "    returns Re in a packed bed\n",
    "    density in kg/m^3\n",
    "    effective_velocity in m/s\n",
    "    particle_diameter in m\n",
    "    dynamic_viscosity in Pa.s\n",
    "    don't know if this is useful yet\n",
    "    \"\"\"\n",
    "    return density*effective_velocity*particle_diameter/dynamic_viscosity"
   ]
  },
  {
   "cell_type": "code",
   "execution_count": 9,
   "metadata": {},
   "outputs": [],
   "source": [
    "def f_MW_mixture(x):\n",
    "    \"\"\"\n",
    "    returns average molecular weight of mixture\n",
    "    x is a numpy array containing mole fraction of each of the four species\n",
    "    \"\"\"\n",
    "    return MW*x"
   ]
  },
  {
   "cell_type": "code",
   "execution_count": 10,
   "metadata": {},
   "outputs": [],
   "source": [
    "def f_gamma_mixture(gamma, x):\n",
    "    \"\"\"\n",
    "    returns average specific heat ratio of mixture\n",
    "    gamma is a numpy array containing specific heat ratio of each of the four species\n",
    "    x is a numpy array containing mole fraction of each of the four species\n",
    "    \"\"\"\n",
    "    return gamma*x"
   ]
  },
  {
   "cell_type": "code",
   "execution_count": 11,
   "metadata": {},
   "outputs": [],
   "source": [
    "def rate_law_HAN(temperature, conc_HAN):\n",
    "    \"\"\"\n",
    "    returns rate law of HAN in mol/(m^3-s)\n",
    "    temperature in K\n",
    "    conc_HAN in mol/m^3\n",
    "    data from https://pubs-acs-org.ezproxy.neu.edu/doi/full/10.1021/acs.jpca.8b05351\n",
    "    \"\"\"\n",
    "    rate_constant = np.exp(21.1)*np.exp(-88.6*1000/(R_2*temperature))\n",
    "    return -rate_constant*conc_HAN"
   ]
  },
  {
   "cell_type": "code",
   "execution_count": 12,
   "metadata": {},
   "outputs": [],
   "source": [
    "def f_dPdZ(m, mu, rho, dp):\n",
    "    \"\"\"\n",
    "    returns pressure drop in bar/m\n",
    "    m is mass flow rate in kg/s\n",
    "    G is bed loading factor in kg/(m^2-s)\n",
    "    rho is average density in kg/m^3\n",
    "    mu is viscosity in Pa-s\n",
    "    dp is particle diameter in m\n",
    "    \"\"\"\n",
    "    rp = dp/2\n",
    "    G = m/effective_area\n",
    "    phi = volume_void_fraction\n",
    "    t1 = 300*(1-phi)*mu/rp+1.75*G\n",
    "    t2 = -2*G/(rho*rp)*(1-phi)/(phi^3)\n",
    "    return t1*t2/1e5"
   ]
  },
  {
   "cell_type": "code",
   "execution_count": 13,
   "metadata": {},
   "outputs": [],
   "source": [
    "def f_dTdZ(r, dH, N, Cp):\n",
    "    \"\"\"\n",
    "    returns dT/dZ\n",
    "    r is reaction rate in mol/(m^3-s)\n",
    "    dH is enthalpy of reaction for 1 mole of HAN reacted in J/mol\n",
    "    N is a numpy array containing molar flow rates of all species in mol/s\n",
    "    Cp is a numpy array containing specific heat of all species in J/mol-K\n",
    "    \"\"\"\n",
    "    t1 = r*dH\n",
    "    t2 = sum(N*Cp)\n",
    "    return t1/t2*effective_area"
   ]
  },
  {
   "cell_type": "code",
   "execution_count": 14,
   "metadata": {},
   "outputs": [],
   "source": [
    "def f_throat_area(flow_rate, chamber_pressure, chamber_temperature, gamma, MW):\n",
    "    \"\"\"\n",
    "    returns throat area in m^2\n",
    "    flow rate in kg/s\n",
    "    chamber temperature in K\n",
    "    chamber pressure in bar\n",
    "    MW in g/mol\n",
    "    \"\"\"\n",
    "    temp_R = R_2/MW*1000\n",
    "    temp_var1 = np.sqrt(gamma/temp_R)/((gamma+1)/2)**((gamma+1)/(2*(gamma-1)))\n",
    "    return flow_rate*np.sqrt(chamber_temperature)/(chamber_pressure*temp_var1*1e5)"
   ]
  },
  {
   "cell_type": "code",
   "execution_count": 15,
   "metadata": {},
   "outputs": [],
   "source": [
    "# Need to write a function that solves for the Mach number given the expansion ratio\n",
    "def f_Mach_number(something):\n",
    "    return something"
   ]
  },
  {
   "cell_type": "code",
   "execution_count": 16,
   "metadata": {},
   "outputs": [],
   "source": [
    "def f_speed_of_sound(MW, gamma, T):\n",
    "    \"\"\"\n",
    "    returns speed of sound in m/s\n",
    "    R is gas constant in kg-m^2/(K-mol)\n",
    "    MW is average molecular weight in g/mol\n",
    "    gamma is average specific heat ratio\n",
    "    T is temperature in K\n",
    "    \"\"\"\n",
    "    return np.sqrt(gamma*R_2*T*1000/MW)"
   ]
  },
  {
   "cell_type": "code",
   "execution_count": 17,
   "metadata": {},
   "outputs": [],
   "source": [
    "def f_exhaust_velocity(Mach_number, speed_of_sound):\n",
    "    \"returns exhaust velocity in m/s\"\n",
    "    return Mach_number*speed_of_sound"
   ]
  },
  {
   "cell_type": "code",
   "execution_count": 18,
   "metadata": {},
   "outputs": [],
   "source": [
    "def helper_function_1(Mach_number, gamma):\n",
    "    \"A helper function to calculate exhaust temperature and pressure\"\n",
    "    return 1+(gamma-1)/2*Mach_number**2"
   ]
  },
  {
   "cell_type": "code",
   "execution_count": 19,
   "metadata": {},
   "outputs": [],
   "source": [
    "def f_exhaust_temperature(chamber_temperature, gamma, Mach_number):\n",
    "    \"returns exhaust temperature in K\"\n",
    "    return chamber_temperature/helper_function_1(Mach_number, gamma)"
   ]
  },
  {
   "cell_type": "code",
   "execution_count": 20,
   "metadata": {},
   "outputs": [],
   "source": [
    "def f_exhaust_pressure(chamber_pressure, gamma, Mach_number):\n",
    "    \"returns exhaust pressure in bar\"\n",
    "    return chamber_pressure/(helper_function_1(Mach_number, gamma)**(gamma/(gamma-1)))"
   ]
  },
  {
   "cell_type": "code",
   "execution_count": 21,
   "metadata": {},
   "outputs": [],
   "source": [
    "def f_thrust(Ue, flow_rate, nozzle_area, exhaust_pressure, ambient_pressure):\n",
    "    \"\"\"\n",
    "    returns thrust in N\n",
    "    Ue is exhaust velocity in m/s\n",
    "    flow rate in kg/s\n",
    "    nozzle area in m^2\n",
    "    exhaust and ambient pressure in Pa\n",
    "    \"\"\"\n",
    "    return Ue*flow_rate+nozzle_area*(exhaust_pressure-ambient_pressure)"
   ]
  },
  {
   "cell_type": "code",
   "execution_count": 22,
   "metadata": {},
   "outputs": [],
   "source": [
    "def f_Isp(thrust, flow_rate):\n",
    "    \"\"\"\n",
    "    returns specific impulse in s\n",
    "    thrust in N\n",
    "    Ue is exhaust velocity in m/s\n",
    "    \"\"\"\n",
    "    return thrust/(flow_rate*g)"
   ]
  },
  {
   "cell_type": "code",
   "execution_count": 23,
   "metadata": {},
   "outputs": [],
   "source": [
    "# Define range of variable parameters\n",
    "particle_diameter_range = (0.001, 0.01) # 1-10 mm\n",
    "bed_length_range = (0.1, 0.5) # range of bed length 10-50 cm\n",
    "flow_rate_range = (0.001, 0.1) # 1-100 g/s\n",
    "start_temperatre_range = (323, 473) # 50-200 C\n",
    "feed_pressure_range = (5, 50)\n",
    "water_mole_fraction_range = (0, 0.4) # range of H2O mole fraction\n",
    "expansion_ratio_range = (10, 50) # range of nozzle expansion ratio"
   ]
  },
  {
   "cell_type": "code",
   "execution_count": 24,
   "metadata": {},
   "outputs": [],
   "source": [
    "# This part is the core of our sensitivity analysts, needs to be discussed on Tuesday\n",
    "\n",
    "# assign some values first to see how the model works\n",
    "bed_length = 0.1\n",
    "particle_diameter = 0.01\n",
    "flow_rate = 0.01\n",
    "start_temperature = 473\n",
    "feed_pressure = 20\n",
    "water_mole_fraction = 0\n",
    "expansion_ratio = 50\n",
    "step_size = bed_length/1000\n",
    "\n",
    "#"
   ]
  }
 ],
 "metadata": {
  "kernelspec": {
   "display_name": "Python 3",
   "language": "python",
   "name": "python3"
  },
  "language_info": {
   "codemirror_mode": {
    "name": "ipython",
    "version": 3
   },
   "file_extension": ".py",
   "mimetype": "text/x-python",
   "name": "python",
   "nbconvert_exporter": "python",
   "pygments_lexer": "ipython3",
   "version": "3.7.4"
  }
 },
 "nbformat": 4,
 "nbformat_minor": 2
}
